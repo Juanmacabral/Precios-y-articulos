{
 "cells": [
  {
   "cell_type": "code",
   "execution_count": null,
   "id": "a3e54891",
   "metadata": {},
   "outputs": [],
   "source": [
    "import pandas as pd\n",
    "import numpy as np\n",
    "import openpyxl"
   ]
  },
  {
   "cell_type": "code",
   "execution_count": null,
   "id": "9a1bc8ec",
   "metadata": {},
   "outputs": [],
   "source": [
    "articulos = pd.read_excel('Stk_Dps_Vtas_Loc_FabTem.xls') \n",
    "#subo el listado de articulos, donde se detalla el stock (no incluye color)"
   ]
  },
  {
   "cell_type": "code",
   "execution_count": null,
   "id": "1c29059d",
   "metadata": {},
   "outputs": [],
   "source": [
    "articulos = articulos.iloc[1:-1, :] #Elimino primera y ultima fila\n",
    "articulos = articulos.rename(columns=articulos.iloc[0]).drop(articulos.index[0]) #Primera fila pasa a ser header \n",
    "articulos.columns = map(str.lower, articulos.columns) #Lowercase a los headers de columnas\n",
    "lista_columnas = ['pendiente corte', 'cortado', 'taller', 'fabricacion'] # Agrupo columnas a sumar en una lista\n",
    "articulos['produccion'] = articulos[lista_columnas].sum(axis=1).astype(int) #Sumo columnas anidadas en lista_columnas\n",
    "articulos = articulos.drop(columns=['temporada', 'año', 'precio','pendiente corte',\n",
    "                                    'cortado', 'taller', 'fabricacion','venta', '%']) #Elimino columnas que no sirven\n",
    "articulos = articulos.apply(lambda x: x.astype(str).str.strip() if x.dtype == \"object\" else x) \n",
    "# Elimino espacios en blanco del dataset\n",
    "articulos = articulos.loc[articulos['total'].astype(int) > 100] #filtro columna total por mayores a 100\n"
   ]
  },
  {
   "cell_type": "code",
   "execution_count": null,
   "id": "cf00897c",
   "metadata": {},
   "outputs": [],
   "source": [
    "%store articulos"
   ]
  },
  {
   "cell_type": "code",
   "execution_count": null,
   "id": "3ed4f0a7",
   "metadata": {},
   "outputs": [],
   "source": [
    "articulos['abrv'] = articulos['producto'].loc[3:7]"
   ]
  },
  {
   "cell_type": "code",
   "execution_count": null,
   "id": "1e4b9ad8",
   "metadata": {},
   "outputs": [],
   "source": [
    "articulos"
   ]
  },
  {
   "cell_type": "code",
   "execution_count": null,
   "id": "92874d33",
   "metadata": {},
   "outputs": [],
   "source": []
  }
 ],
 "metadata": {
  "kernelspec": {
   "display_name": "Python 3 (ipykernel)",
   "language": "python",
   "name": "python3"
  },
  "language_info": {
   "codemirror_mode": {
    "name": "ipython",
    "version": 3
   },
   "file_extension": ".py",
   "mimetype": "text/x-python",
   "name": "python",
   "nbconvert_exporter": "python",
   "pygments_lexer": "ipython3",
   "version": "3.11.0"
  }
 },
 "nbformat": 4,
 "nbformat_minor": 5
}
