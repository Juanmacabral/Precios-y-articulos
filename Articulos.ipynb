{
 "cells": [
  {
   "cell_type": "code",
   "execution_count": 1,
   "id": "a3e54891",
   "metadata": {},
   "outputs": [],
   "source": [
    "import pandas as pd\n",
    "import numpy as np\n",
    "import openpyxl"
   ]
  },
  {
   "cell_type": "code",
   "execution_count": 2,
   "id": "9a1bc8ec",
   "metadata": {},
   "outputs": [
    {
     "name": "stdout",
     "output_type": "stream",
     "text": [
      "WARNING *** file size (3997568) not 512 + multiple of sector size (512)\n"
     ]
    }
   ],
   "source": [
    "articulos = pd.read_excel('Stk_Dps_Vtas_Loc_FabTem.xls')"
   ]
  },
  {
   "cell_type": "code",
   "execution_count": 3,
   "id": "1c29059d",
   "metadata": {},
   "outputs": [],
   "source": [
    "articulos = articulos.iloc[1:-1, :]\n",
    "articulos = articulos.rename(columns=articulos.iloc[0]).drop(articulos.index[0])\n",
    "articulos.columns = map(str.lower, articulos.columns) #lowercase para todas las columnas\n",
    "lista_columnas = ['pendiente corte', 'cortado', 'taller', 'fabricacion'] \n",
    "articulos['produccion'] = articulos[lista_columnas].sum(axis=1).astype(int) #Sumo columnas anidadas en lista_columnas\n",
    "articulos = articulos.drop(columns=['temporada', 'año', 'precio','pendiente corte',\n",
    "                                    'cortado', 'taller', 'fabricacion','venta', '%'])\n",
    "articulos = articulos.apply(lambda x: x.astype(str).str.strip() if x.dtype == \"object\" else x)"
   ]
  },
  {
   "cell_type": "code",
   "execution_count": null,
   "id": "cf00897c",
   "metadata": {},
   "outputs": [],
   "source": [
    "%store articulos"
   ]
  }
 ],
 "metadata": {
  "kernelspec": {
   "display_name": "Python 3 (ipykernel)",
   "language": "python",
   "name": "python3"
  },
  "language_info": {
   "codemirror_mode": {
    "name": "ipython",
    "version": 3
   },
   "file_extension": ".py",
   "mimetype": "text/x-python",
   "name": "python",
   "nbconvert_exporter": "python",
   "pygments_lexer": "ipython3",
   "version": "3.11.0"
  }
 },
 "nbformat": 4,
 "nbformat_minor": 5
}
