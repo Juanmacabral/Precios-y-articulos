{
 "cells": [
  {
   "cell_type": "code",
   "execution_count": 1,
   "id": "edb48517",
   "metadata": {},
   "outputs": [],
   "source": [
    "import pandas as pd\n",
    "from pandas import ExcelWriter\n",
    "import datetime\n",
    "import pickle"
   ]
  },
  {
   "cell_type": "code",
   "execution_count": null,
   "id": "4b6a2422-194d-4eaa-9ef6-735c9c596abc",
   "metadata": {},
   "outputs": [],
   "source": [
    "# Cargar la variable desde el archivo\n",
    "with open(\"articulos.pickle\", \"rb\") as f:\n",
    "    articulos = pickle.load(f)\n",
    "\n",
    "# Cargar la variable precios_general desde el archivo binario\n",
    "with open(\"precios_general.pickle\", \"rb\") as f:\n",
    "    precios_general = pickle.load(f)\n",
    "\n",
    "# Cargar la variable precios_jean desde el archivo binario\n",
    "with open(\"precios_jeans.pickle\", \"rb\") as f:\n",
    "    precios_jeans = pickle.load(f)\n",
    "\n"
   ]
  },
  {
   "cell_type": "code",
   "execution_count": 3,
   "id": "39427b82",
   "metadata": {},
   "outputs": [],
   "source": [
    "jeans = ['JEAN PANTALONERO', 'JEANS CAMISERO'] #lista para filtrar despues las 2 planillas que necesito"
   ]
  },
  {
   "cell_type": "code",
   "execution_count": 4,
   "id": "66f1fffe",
   "metadata": {},
   "outputs": [],
   "source": [
    "articulos_jeans = articulos.loc[articulos['grupos de telas'].isin(jeans)] #filtro por jeans\n",
    "articulos_general = articulos.loc[~articulos['grupos de telas'].isin(jeans)]#filtro por todo lo que NO sea jeans"
   ]
  },
  {
   "cell_type": "code",
   "execution_count": 5,
   "id": "52066643",
   "metadata": {},
   "outputs": [],
   "source": [
    "jeans_final = articulos_jeans.merge(precios_jeans) #junto 2 planillas\n",
    "articulos_general_final = articulos_general.merge(precios_general) ##junto 2 planillas"
   ]
  },
  {
   "cell_type": "code",
   "execution_count": 6,
   "id": "77bfdd04",
   "metadata": {},
   "outputs": [],
   "source": [
    "#reacomodo las columnas, en ambos casos\n",
    "jeans_final = jeans_final.reindex(columns=['producto', 'descripcion', 'diseñadora', 'tipo de prenda', 'origen', \n",
    "'segmento / linea','grupos de telas','color', 'precio', 'fecha','produccion','tmp a central', 'central','transito',\n",
    "'stock locales', 'total'])\n",
    "articulos_general_final = articulos_general_final.reindex(columns=['producto', 'descripcion', 'diseñadora', 'tipo de prenda',\n",
    "'origen','segmento / linea', 'grupos de telas', 'precio', 'fecha','produccion','tmp a central', 'central', \n",
    "'transito', 'stock locales', 'total'])\n",
    "\n",
    "#modifico type, de object a int\n",
    "jeans_final = jeans_final.astype({'precio':\"int\", 'produccion':\"int\", 'tmp a central':\"int\",\n",
    "                                  'central':\"int\", 'transito':\"int\", 'stock locales':\"int\", 'total':\"int\"})\n",
    "\n",
    "articulos_general_final = articulos_general_final.astype(\n",
    "                                 {'precio':\"int\", 'produccion':\"int\", 'tmp a central':\"int\",\n",
    "                                  'central':\"int\", 'transito':\"int\", 'stock locales':\"int\", 'total':\"int\"})\n"
   ]
  },
  {
   "cell_type": "code",
   "execution_count": 8,
   "id": "ed10972f",
   "metadata": {},
   "outputs": [],
   "source": [
    "#exporto a un excel ambas tablas\n",
    "with pd.ExcelWriter(r'C:\\Users\\Juan M Cabral\\Desktop\\Reportes con python\\precios.xlsx') as writer:\n",
    "    articulos_general_final.to_excel(writer, sheet_name='Articulos general', index=False)\n",
    "    jeans_final.to_excel(writer, sheet_name='Jeans', index=False)"
   ]
  },
  {
   "cell_type": "code",
   "execution_count": null,
   "id": "e3ba23b2",
   "metadata": {},
   "outputs": [],
   "source": []
  }
 ],
 "metadata": {
  "kernelspec": {
   "display_name": "Python 3 (ipykernel)",
   "language": "python",
   "name": "python3"
  },
  "language_info": {
   "codemirror_mode": {
    "name": "ipython",
    "version": 3
   },
   "file_extension": ".py",
   "mimetype": "text/x-python",
   "name": "python",
   "nbconvert_exporter": "python",
   "pygments_lexer": "ipython3",
   "version": "3.11.0"
  }
 },
 "nbformat": 4,
 "nbformat_minor": 5
}
