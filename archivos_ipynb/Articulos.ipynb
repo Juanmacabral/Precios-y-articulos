{
 "cells": [
  {
   "cell_type": "code",
   "execution_count": 1,
   "id": "a3e54891",
   "metadata": {},
   "outputs": [],
   "source": [
    "import pandas as pd\n",
    "import numpy as np\n",
    "import openpyxl\n",
    "import pickle\n",
    "import os"
   ]
  },
  {
   "cell_type": "code",
   "execution_count": 2,
   "id": "4f9dc5eb",
   "metadata": {},
   "outputs": [],
   "source": [
    "os.chdir(\"C:/Users/Juan M Cabral/Desktop/Pycharm/Precios/archivos_excel\")"
   ]
  },
  {
   "cell_type": "code",
   "execution_count": 3,
   "id": "9a1bc8ec",
   "metadata": {},
   "outputs": [
    {
     "name": "stdout",
     "output_type": "stream",
     "text": [
      "WARNING *** file size (4013952) not 512 + multiple of sector size (512)\n"
     ]
    }
   ],
   "source": [
    "articulos = pd.read_excel(\"Stk_Dps_Vtas_Loc_FabTem.xls\")\n",
    "#subo el listado de articulos, donde se detalla el stock (no incluye color)"
   ]
  },
  {
   "cell_type": "code",
   "execution_count": 4,
   "id": "1c29059d",
   "metadata": {},
   "outputs": [],
   "source": [
    "articulos = articulos.iloc[1:-1, :] #Elimino primera y ultima fila\n",
    "articulos = articulos.rename(columns=articulos.iloc[0]).drop(articulos.index[0]) #Primera fila pasa a ser header \n",
    "articulos.columns = map(str.lower, articulos.columns) #Lowercase a los headers de columnas\n",
    "lista_columnas = ['pendiente corte', 'cortado', 'taller', 'fabricacion'] # Agrupo columnas a sumar en una lista\n",
    "articulos['produccion'] = articulos[lista_columnas].sum(axis=1).astype(int) #Sumo columnas anidadas en lista_columnas\n",
    "articulos = articulos.drop(columns=['temporada', 'año', 'precio','pendiente corte',\n",
    "                                    'cortado', 'taller', 'fabricacion','venta', '%']) #Elimino columnas que no sirven\n",
    "articulos = articulos.apply(lambda x: x.astype(str).str.strip() if x.dtype == \"object\" else x) \n",
    "# Elimino espacios en blanco del dataset\n",
    "filtro = articulos.sort_values(by='grupos de telas')['grupos de telas'].unique()\n",
    "filtro = [x for x in filtro if \"JEAN\" in x or \"JEANS\" in x ]\n",
    "articulos = articulos.loc[articulos['total'].astype(int) > 100] #filtro columna total por mayores a 100\n"
   ]
  },
  {
   "cell_type": "code",
   "execution_count": null,
   "id": "15733e1a",
   "metadata": {},
   "outputs": [],
   "source": [
    "os.chdir(\"C:/Users/Juan M Cabral/Desktop/Pycharm/Precios/archivos_pickle\")"
   ]
  },
  {
   "cell_type": "code",
   "execution_count": 10,
   "id": "9ae8c162-1272-4504-9d8d-fd318b19274b",
   "metadata": {},
   "outputs": [],
   "source": [
    "# Serializar la variable articulos y almacenarla en un archivo binario\n",
    "with open(\"articulos.pickle\", \"wb\") as f:\n",
    "    pickle.dump(articulos, f)\n",
    "\n",
    "# Serializar la variable articulos y almacenarla en un archivo binario\n",
    "with open(\"filtro.pickle\", \"wb\") as f:\n",
    "    pickle.dump(filtro, f)\n",
    "    "
   ]
  },
  {
   "cell_type": "code",
   "execution_count": null,
   "id": "b7388f44",
   "metadata": {},
   "outputs": [],
   "source": []
  }
 ],
 "metadata": {
  "kernelspec": {
   "display_name": "Python 3 (ipykernel)",
   "language": "python",
   "name": "python3"
  },
  "language_info": {
   "codemirror_mode": {
    "name": "ipython",
    "version": 3
   },
   "file_extension": ".py",
   "mimetype": "text/x-python",
   "name": "python",
   "nbconvert_exporter": "python",
   "pygments_lexer": "ipython3",
   "version": "3.11.0"
  }
 },
 "nbformat": 4,
 "nbformat_minor": 5
}
