{
 "cells": [
  {
   "cell_type": "code",
   "execution_count": 4,
   "id": "8b8dc59c",
   "metadata": {},
   "outputs": [],
   "source": [
    "import pandas as pd\n",
    "import numpy as np\n",
    "import pickle\n",
    "import datetime\n",
    "import os"
   ]
  },
  {
   "cell_type": "code",
   "execution_count": 5,
   "id": "188dc51a",
   "metadata": {},
   "outputs": [],
   "source": [
    "os.chdir(\"C:/Users/Juan M Cabral/Desktop/Pycharm/Precios/archivos_excel\")"
   ]
  },
  {
   "cell_type": "code",
   "execution_count": 6,
   "id": "2effee0a",
   "metadata": {},
   "outputs": [],
   "source": [
    "precios = pd.read_excel('PRECIOS PUBLICO.xlsx') #subo el listado de precios por barra y fecha"
   ]
  },
  {
   "cell_type": "code",
   "execution_count": 3,
   "id": "14c253c2",
   "metadata": {},
   "outputs": [],
   "source": [
    "precios.columns = map(str.lower, precios.columns) #Lowercase a los headers de columnas\n",
    "precios.drop(columns=['unnamed: 6', 'unnamed: 7','talle'],inplace=True) # Elimino columnas que no sirven\n",
    "precios.dropna(inplace=True) #drop de Nan values\n",
    "precios['precio'] = precios['precio'].round().astype(int)"
   ]
  },
  {
   "cell_type": "code",
   "execution_count": 4,
   "id": "032c1f93",
   "metadata": {},
   "outputs": [],
   "source": [
    "precios_general = precios[precios['fecha'] > '2022-01-01']\n",
    "precios_general = precios_general.sort_values(['precio', 'fecha'], ascending=[False, False])\n",
    "precios_general = precios_general.groupby('producto').first()\n",
    "precios_general.drop(columns='color', inplace=True)\n",
    "precios_general = precios_general.reset_index()"
   ]
  },
  {
   "cell_type": "code",
   "execution_count": 5,
   "id": "578a28d6",
   "metadata": {},
   "outputs": [],
   "source": [
    "precios_jeans = precios[(precios['fecha'] > '2022-01-01')] #filtro por fecha \n",
    "precios_jeans = precios_jeans.groupby(['producto','color']).apply(lambda x: x.loc[x['precio'].idxmax()]) \n",
    "#Agrupo por producto y color, buscando el precio mas alto por articulo\n",
    "precios_jeans = precios_jeans.drop(columns=['producto']) #reacomodo tabla\n",
    "precios_jeans = precios_jeans.reset_index(drop=True) #reacomodo la tabla\n"
   ]
  },
  {
   "cell_type": "code",
   "execution_count": null,
   "id": "645fe7d4",
   "metadata": {},
   "outputs": [],
   "source": [
    "os.chdir(\"C:/Users/Juan M Cabral/Desktop/Pycharm/Precios/archivos_pickle\")"
   ]
  },
  {
   "cell_type": "code",
   "execution_count": null,
   "id": "4cfcd612-6e7f-4fad-8f22-80872b78bd36",
   "metadata": {},
   "outputs": [],
   "source": [
    "# Serializar la variable precios_general y almacenarla en un archivo binario\n",
    "with open(\"precios_general.pickle\", \"wb\") as f:\n",
    "    pickle.dump(precios_general, f)\n",
    "\n",
    "# Serializar la variable precios_jean y almacenarla en un archivo binario    \n",
    "with open(\"precios_jeans.pickle\", \"wb\") as f:\n",
    "    pickle.dump(precios_jeans, f)"
   ]
  }
 ],
 "metadata": {
  "kernelspec": {
   "display_name": "Python 3 (ipykernel)",
   "language": "python",
   "name": "python3"
  },
  "language_info": {
   "codemirror_mode": {
    "name": "ipython",
    "version": 3
   },
   "file_extension": ".py",
   "mimetype": "text/x-python",
   "name": "python",
   "nbconvert_exporter": "python",
   "pygments_lexer": "ipython3",
   "version": "3.11.0"
  }
 },
 "nbformat": 4,
 "nbformat_minor": 5
}
