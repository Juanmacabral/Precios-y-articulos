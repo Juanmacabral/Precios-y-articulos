{
 "cells": [
  {
   "cell_type": "code",
   "execution_count": 1,
   "id": "8b8dc59c",
   "metadata": {},
   "outputs": [],
   "source": [
    "import pandas as pd\n",
    "import numpy as np\n",
    "import pickle\n",
    "import datetime"
   ]
  },
  {
   "cell_type": "code",
   "execution_count": 2,
   "id": "2effee0a",
   "metadata": {},
   "outputs": [],
   "source": [
    "precios = pd.read_excel('PRECIOS PUBLICO.xlsx') #subo el listado de precios por barra y fecha"
   ]
  },
  {
   "cell_type": "code",
   "execution_count": 3,
   "id": "14c253c2",
   "metadata": {},
   "outputs": [],
   "source": [
    "precios.columns = map(str.lower, precios.columns) #Lowercase a los headers de columnas\n",
    "precios.drop(columns=['unnamed: 6', 'unnamed: 7','talle'],inplace=True) # Elimino columnas que no sirven\n",
    "precios.dropna(inplace=True) #drop de Nan values\n",
    "precios['precio'] = precios['precio'].round().astype(int)"
   ]
  },
  {
   "cell_type": "code",
   "execution_count": 4,
   "id": "032c1f93",
   "metadata": {},
   "outputs": [],
   "source": [
    "precios_general = precios[precios['fecha'] > '2021-01-01']\n",
    "precios_general = precios_general.sort_values(['precio', 'fecha'], ascending=[False, False])\n",
    "precios_general = precios_general.groupby('producto').first()\n",
    "precios_general.drop(columns='color', inplace=True)\n",
    "precios_general = precios_general.reset_index()"
   ]
  },
  {
   "cell_type": "code",
   "execution_count": 5,
   "id": "578a28d6",
   "metadata": {},
   "outputs": [],
   "source": [
    "precios_jeans = precios[(precios['fecha'] > '2022-01-01')] #filtro por fecha \n",
    "precios_jeans = precios_jeans.groupby(['producto','color']).apply(lambda x: x.loc[x['precio'].idxmax()]) \n",
    "#Agrupo por producto y color, buscando el precio mas alto por articulo\n",
    "precios_jeans = precios_jeans.drop(columns=['producto']) #reacomodo tabla\n",
    "precios_jeans = precios_jeans.reset_index(drop=True) #reacomodo la tabla\n"
   ]
  },
  {
   "cell_type": "code",
   "execution_count": null,
   "id": "4cfcd612-6e7f-4fad-8f22-80872b78bd36",
   "metadata": {},
   "outputs": [],
   "source": [
    "# Serializar la variable precios_general y almacenarla en un archivo binario\n",
    "with open(\"precios_general.pickle\", \"wb\") as f:\n",
    "    pickle.dump(precios_general, f)\n",
    "\n",
    "# Serializar la variable precios_jean y almacenarla en un archivo binario\n",
    "with open(\"precios_jeans.pickle\", \"wb\") as f:\n",
    "    pickle.dump(precios_jeans, f)"
   ]
  },
  {
   "cell_type": "code",
   "execution_count": 10,
   "id": "7e1f95fc",
   "metadata": {},
   "outputs": [
    {
     "data": {
      "text/html": [
       "<div>\n",
       "<style scoped>\n",
       "    .dataframe tbody tr th:only-of-type {\n",
       "        vertical-align: middle;\n",
       "    }\n",
       "\n",
       "    .dataframe tbody tr th {\n",
       "        vertical-align: top;\n",
       "    }\n",
       "\n",
       "    .dataframe thead th {\n",
       "        text-align: right;\n",
       "    }\n",
       "</style>\n",
       "<table border=\"1\" class=\"dataframe\">\n",
       "  <thead>\n",
       "    <tr style=\"text-align: right;\">\n",
       "      <th></th>\n",
       "      <th>producto</th>\n",
       "      <th>descripcion</th>\n",
       "      <th>precio</th>\n",
       "      <th>fecha</th>\n",
       "    </tr>\n",
       "  </thead>\n",
       "  <tbody>\n",
       "    <tr>\n",
       "      <th>0</th>\n",
       "      <td>110000021</td>\n",
       "      <td>BUFANDA CLOE</td>\n",
       "      <td>2718</td>\n",
       "      <td>2022-08-25</td>\n",
       "    </tr>\n",
       "    <tr>\n",
       "      <th>1</th>\n",
       "      <td>110000051</td>\n",
       "      <td>ACCESORIO PARA EL PELO -PRAGA</td>\n",
       "      <td>299</td>\n",
       "      <td>2022-09-05</td>\n",
       "    </tr>\n",
       "    <tr>\n",
       "      <th>2</th>\n",
       "      <td>110000061</td>\n",
       "      <td>COLERO \"L\"</td>\n",
       "      <td>399</td>\n",
       "      <td>2022-09-27</td>\n",
       "    </tr>\n",
       "    <tr>\n",
       "      <th>3</th>\n",
       "      <td>110000071</td>\n",
       "      <td>COLERO \"M\"</td>\n",
       "      <td>349</td>\n",
       "      <td>2022-11-29</td>\n",
       "    </tr>\n",
       "    <tr>\n",
       "      <th>4</th>\n",
       "      <td>110000221</td>\n",
       "      <td>FALDA BASICA DEMIN</td>\n",
       "      <td>5999</td>\n",
       "      <td>2022-10-17</td>\n",
       "    </tr>\n",
       "    <tr>\n",
       "      <th>...</th>\n",
       "      <td>...</td>\n",
       "      <td>...</td>\n",
       "      <td>...</td>\n",
       "      <td>...</td>\n",
       "    </tr>\n",
       "    <tr>\n",
       "      <th>1093</th>\n",
       "      <td>8322A2321</td>\n",
       "      <td>CINTO REVERSIBLE C/HEBILLA GIR</td>\n",
       "      <td>2999</td>\n",
       "      <td>2022-09-13</td>\n",
       "    </tr>\n",
       "    <tr>\n",
       "      <th>1094</th>\n",
       "      <td>8322A2341</td>\n",
       "      <td>CINTO CLASSIC</td>\n",
       "      <td>2799</td>\n",
       "      <td>2022-09-13</td>\n",
       "    </tr>\n",
       "    <tr>\n",
       "      <th>1095</th>\n",
       "      <td>8322X1241</td>\n",
       "      <td>OJOTAS CLASICAS HOMBRE</td>\n",
       "      <td>999</td>\n",
       "      <td>2022-10-04</td>\n",
       "    </tr>\n",
       "    <tr>\n",
       "      <th>1096</th>\n",
       "      <td>8900A6011</td>\n",
       "      <td>VELA DE CERA DE SOJA</td>\n",
       "      <td>1799</td>\n",
       "      <td>2022-10-12</td>\n",
       "    </tr>\n",
       "    <tr>\n",
       "      <th>1097</th>\n",
       "      <td>8900A6021</td>\n",
       "      <td>HOME SPRAY</td>\n",
       "      <td>1499</td>\n",
       "      <td>2022-10-12</td>\n",
       "    </tr>\n",
       "  </tbody>\n",
       "</table>\n",
       "<p>1098 rows × 4 columns</p>\n",
       "</div>"
      ],
      "text/plain": [
       "       producto                     descripcion  precio      fecha\n",
       "0     110000021                    BUFANDA CLOE    2718 2022-08-25\n",
       "1     110000051   ACCESORIO PARA EL PELO -PRAGA     299 2022-09-05\n",
       "2     110000061                      COLERO \"L\"     399 2022-09-27\n",
       "3     110000071                      COLERO \"M\"     349 2022-11-29\n",
       "4     110000221              FALDA BASICA DEMIN    5999 2022-10-17\n",
       "...         ...                             ...     ...        ...\n",
       "1093  8322A2321  CINTO REVERSIBLE C/HEBILLA GIR    2999 2022-09-13\n",
       "1094  8322A2341                   CINTO CLASSIC    2799 2022-09-13\n",
       "1095  8322X1241          OJOTAS CLASICAS HOMBRE     999 2022-10-04\n",
       "1096  8900A6011            VELA DE CERA DE SOJA    1799 2022-10-12\n",
       "1097  8900A6021                      HOME SPRAY    1499 2022-10-12\n",
       "\n",
       "[1098 rows x 4 columns]"
      ]
     },
     "execution_count": 10,
     "metadata": {},
     "output_type": "execute_result"
    }
   ],
   "source": [
    "precios_general"
   ]
  },
  {
   "cell_type": "code",
   "execution_count": 11,
   "id": "a09884ea",
   "metadata": {},
   "outputs": [
    {
     "data": {
      "text/html": [
       "<div>\n",
       "<style scoped>\n",
       "    .dataframe tbody tr th:only-of-type {\n",
       "        vertical-align: middle;\n",
       "    }\n",
       "\n",
       "    .dataframe tbody tr th {\n",
       "        vertical-align: top;\n",
       "    }\n",
       "\n",
       "    .dataframe thead th {\n",
       "        text-align: right;\n",
       "    }\n",
       "</style>\n",
       "<table border=\"1\" class=\"dataframe\">\n",
       "  <thead>\n",
       "    <tr style=\"text-align: right;\">\n",
       "      <th></th>\n",
       "      <th>producto</th>\n",
       "      <th>descripcion</th>\n",
       "      <th>precio</th>\n",
       "      <th>fecha</th>\n",
       "    </tr>\n",
       "  </thead>\n",
       "  <tbody>\n",
       "    <tr>\n",
       "      <th>934</th>\n",
       "      <td>2123R5711</td>\n",
       "      <td>MUSCULOSA BASICA</td>\n",
       "      <td>3499</td>\n",
       "      <td>2022-09-11</td>\n",
       "    </tr>\n",
       "  </tbody>\n",
       "</table>\n",
       "</div>"
      ],
      "text/plain": [
       "      producto       descripcion  precio      fecha\n",
       "934  2123R5711  MUSCULOSA BASICA    3499 2022-09-11"
      ]
     },
     "execution_count": 11,
     "metadata": {},
     "output_type": "execute_result"
    }
   ],
   "source": [
    "precios_general.loc[precios_general['producto'] == '2123R5711']"
   ]
  },
  {
   "cell_type": "code",
   "execution_count": null,
   "id": "13768c2a",
   "metadata": {},
   "outputs": [],
   "source": []
  },
  {
   "cell_type": "code",
   "execution_count": null,
   "id": "df8c8fb6",
   "metadata": {},
   "outputs": [],
   "source": []
  }
 ],
 "metadata": {
  "kernelspec": {
   "display_name": "Python 3 (ipykernel)",
   "language": "python",
   "name": "python3"
  },
  "language_info": {
   "codemirror_mode": {
    "name": "ipython",
    "version": 3
   },
   "file_extension": ".py",
   "mimetype": "text/x-python",
   "name": "python",
   "nbconvert_exporter": "python",
   "pygments_lexer": "ipython3",
   "version": "3.11.0"
  }
 },
 "nbformat": 4,
 "nbformat_minor": 5
}
