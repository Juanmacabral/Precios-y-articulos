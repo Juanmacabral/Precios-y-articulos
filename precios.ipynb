{
 "cells": [
  {
   "cell_type": "code",
   "execution_count": 13,
   "id": "8b8dc59c",
   "metadata": {},
   "outputs": [],
   "source": [
    "import pandas as pd\n",
    "import numpy as np\n",
    "import pickle\n",
    "import datetime"
   ]
  },
  {
   "cell_type": "code",
   "execution_count": 14,
   "id": "2effee0a",
   "metadata": {},
   "outputs": [],
   "source": [
    "precios = pd.read_excel('PRECIOS PUBLICO.xlsx') #subo el listado de precios por barra y fecha"
   ]
  },
  {
   "cell_type": "code",
   "execution_count": 15,
   "id": "14c253c2",
   "metadata": {},
   "outputs": [],
   "source": [
    "precios.columns = map(str.lower, precios.columns) #Lowercase a los headers de columnas\n",
    "precios.drop(columns=['unnamed: 6', 'unnamed: 7','talle'],inplace=True) # Elimino columnas que no sirven\n",
    "precios.dropna(inplace=True) #drop de Nan values\n",
    "precios['precio'] = precios['precio'].astype(int) #convierto la columna precio en INT"
   ]
  },
  {
   "cell_type": "code",
   "execution_count": 16,
   "id": "032c1f93",
   "metadata": {},
   "outputs": [],
   "source": [
    "precios_general = precios[precios['fecha'] > '2022-08-01']\n",
    "precios_general = precios_general.sort_values(['precio', 'fecha'], ascending=[False, False])\n",
    "precios_general = precios_general.groupby('producto').first()\n",
    "precios_general.drop(columns='color', inplace=True)\n",
    "precios_general = precios_general.reset_index(drop=True)"
   ]
  },
  {
   "cell_type": "code",
   "execution_count": 5,
   "id": "578a28d6",
   "metadata": {},
   "outputs": [],
   "source": [
    "precios_jeans = precios[(precios['fecha'] > '2022-01-01')] #filtro por fecha \n",
    "precios_jeans = precios_jeans.groupby(['producto','color']).apply(lambda x: x.loc[x['precio'].idxmax()]) \n",
    "#Agrupo por producto y color, buscando el precio mas alto por articulo\n",
    "precios_jeans = precios_jeans.drop(columns=['producto']) #reacomodo tabla\n",
    "precios_jeans = precios_jeans.reset_index(drop=True) #reacomodo la tabla\n"
   ]
  },
  {
   "cell_type": "code",
   "execution_count": 6,
   "id": "4cfcd612-6e7f-4fad-8f22-80872b78bd36",
   "metadata": {},
   "outputs": [],
   "source": [
    "# Serializar la variable precios_general y almacenarla en un archivo binario\n",
    "with open(\"precios_general.pickle\", \"wb\") as f:\n",
    "    pickle.dump(precios_general, f)\n",
    "\n",
    "# Serializar la variable precios_jean y almacenarla en un archivo binario\n",
    "with open(\"precios_jeans.pickle\", \"wb\") as f:\n",
    "    pickle.dump(precios_jeans, f)"
   ]
  },
  {
   "cell_type": "code",
   "execution_count": 17,
   "id": "7e1f95fc",
   "metadata": {},
   "outputs": [
    {
     "data": {
      "text/html": [
       "<div>\n",
       "<style scoped>\n",
       "    .dataframe tbody tr th:only-of-type {\n",
       "        vertical-align: middle;\n",
       "    }\n",
       "\n",
       "    .dataframe tbody tr th {\n",
       "        vertical-align: top;\n",
       "    }\n",
       "\n",
       "    .dataframe thead th {\n",
       "        text-align: right;\n",
       "    }\n",
       "</style>\n",
       "<table border=\"1\" class=\"dataframe\">\n",
       "  <thead>\n",
       "    <tr style=\"text-align: right;\">\n",
       "      <th></th>\n",
       "      <th>producto</th>\n",
       "      <th>descripcion</th>\n",
       "      <th>precio</th>\n",
       "      <th>fecha</th>\n",
       "    </tr>\n",
       "  </thead>\n",
       "  <tbody>\n",
       "    <tr>\n",
       "      <th>552</th>\n",
       "      <td>140062641</td>\n",
       "      <td>PANTALON BABUCHA C/ ELASTICO</td>\n",
       "      <td>7499</td>\n",
       "      <td>2022-12-22</td>\n",
       "    </tr>\n",
       "    <tr>\n",
       "      <th>830</th>\n",
       "      <td>2123Q3611</td>\n",
       "      <td>CAMISA CORTA C/ TIRA</td>\n",
       "      <td>4699</td>\n",
       "      <td>2022-12-22</td>\n",
       "    </tr>\n",
       "  </tbody>\n",
       "</table>\n",
       "</div>"
      ],
      "text/plain": [
       "      producto                    descripcion  precio      fecha\n",
       "552  140062641   PANTALON BABUCHA C/ ELASTICO    7499 2022-12-22\n",
       "830  2123Q3611           CAMISA CORTA C/ TIRA    4699 2022-12-22"
      ]
     },
     "execution_count": 17,
     "metadata": {},
     "output_type": "execute_result"
    }
   ],
   "source": [
    "precios_general.loc[precios_general['fecha'] > '2022-12-20']"
   ]
  },
  {
   "cell_type": "code",
   "execution_count": null,
   "id": "a09884ea",
   "metadata": {},
   "outputs": [],
   "source": []
  }
 ],
 "metadata": {
  "kernelspec": {
   "display_name": "Python 3 (ipykernel)",
   "language": "python",
   "name": "python3"
  },
  "language_info": {
   "codemirror_mode": {
    "name": "ipython",
    "version": 3
   },
   "file_extension": ".py",
   "mimetype": "text/x-python",
   "name": "python",
   "nbconvert_exporter": "python",
   "pygments_lexer": "ipython3",
   "version": "3.11.0"
  }
 },
 "nbformat": 4,
 "nbformat_minor": 5
}
