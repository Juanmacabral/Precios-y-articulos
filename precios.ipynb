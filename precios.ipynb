{
 "cells": [
  {
   "cell_type": "code",
   "execution_count": 1,
   "id": "8b8dc59c",
   "metadata": {},
   "outputs": [],
   "source": [
    "import pandas as pd\n",
    "import numpy as np\n",
    "import openpyxl"
   ]
  },
  {
   "cell_type": "code",
   "execution_count": 2,
   "id": "2effee0a",
   "metadata": {},
   "outputs": [
    {
     "name": "stdout",
     "output_type": "stream",
     "text": [
      "WARNING *** file size (3997568) not 512 + multiple of sector size (512)\n"
     ]
    }
   ],
   "source": [
    "precios = pd.read_excel('PRECIOS PUBLICO.xlsx')"
   ]
  },
  {
   "cell_type": "code",
   "execution_count": 3,
   "id": "14c253c2",
   "metadata": {},
   "outputs": [],
   "source": [
    "precios.columns = map(str.lower, precios.columns)\n",
    "precios.drop(columns=['unnamed: 6', 'unnamed: 7','talle'],inplace=True)\n",
    "precios.dropna(inplace=True)\n",
    "precios['precio'] = precios['precio'].astype(int)"
   ]
  },
  {
   "cell_type": "code",
   "execution_count": 7,
   "id": "032c1f93",
   "metadata": {},
   "outputs": [],
   "source": [
    "precios_general = precios.drop(columns=['color'])\n",
    "precios_general = precios_general.groupby('producto').apply(lambda x: x.loc[x.precio.idxmax()])\n",
    "precios_general.drop(columns=['producto'],inplace=True)\n",
    "precios_general = precios_general.reset_index()"
   ]
  },
  {
   "cell_type": "code",
   "execution_count": 5,
   "id": "578a28d6",
   "metadata": {},
   "outputs": [],
   "source": [
    "precios_jeans = precios.groupby(['producto','color']).apply(lambda x: x.loc[x.precio.idxmax()])\n",
    "precios_jeans = precios_jeans.drop(columns=['producto','color'])\n",
    "precios_jeans = precios_jeans.reset_index()\n"
   ]
  },
  {
   "cell_type": "code",
   "execution_count": 9,
   "id": "fcc7f955",
   "metadata": {},
   "outputs": [
    {
     "data": {
      "text/plain": [
       "Index(['producto', 'descripcion', 'color', 'precio', 'fecha'], dtype='object')"
      ]
     },
     "execution_count": 9,
     "metadata": {},
     "output_type": "execute_result"
    }
   ],
   "source": [
    "precios.columns"
   ]
  },
  {
   "cell_type": "code",
   "execution_count": null,
   "id": "397eb3c0",
   "metadata": {},
   "outputs": [],
   "source": [
    "precios_general"
   ]
  }
 ],
 "metadata": {
  "kernelspec": {
   "display_name": "Python 3 (ipykernel)",
   "language": "python",
   "name": "python3"
  },
  "language_info": {
   "codemirror_mode": {
    "name": "ipython",
    "version": 3
   },
   "file_extension": ".py",
   "mimetype": "text/x-python",
   "name": "python",
   "nbconvert_exporter": "python",
   "pygments_lexer": "ipython3",
   "version": "3.11.0"
  }
 },
 "nbformat": 4,
 "nbformat_minor": 5
}
