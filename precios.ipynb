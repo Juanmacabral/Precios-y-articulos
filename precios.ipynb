{
 "cells": [
  {
   "cell_type": "code",
   "execution_count": null,
   "id": "8b8dc59c",
   "metadata": {},
   "outputs": [],
   "source": [
    "import pandas as pd\n",
    "import numpy as np\n",
    "import openpyxl"
   ]
  },
  {
   "cell_type": "code",
   "execution_count": null,
   "id": "2effee0a",
   "metadata": {},
   "outputs": [],
   "source": [
    "precios = pd.read_excel('PRECIOS PUBLICO.xlsx') #subo el listado de precios por barra y fecha"
   ]
  },
  {
   "cell_type": "code",
   "execution_count": null,
   "id": "14c253c2",
   "metadata": {},
   "outputs": [],
   "source": [
    "precios.columns = map(str.lower, precios.columns) #Lowercase a los headers de columnas\n",
    "precios.drop(columns=['unnamed: 6', 'unnamed: 7','talle'],inplace=True) # Elimino columnas que no sirven\n",
    "precios.dropna(inplace=True) #drop de Nan values\n",
    "precios['precio'] = precios['precio'].astype(int) #convierto la columna precio en INT"
   ]
  },
  {
   "cell_type": "code",
   "execution_count": null,
   "id": "032c1f93",
   "metadata": {},
   "outputs": [],
   "source": [
    "precios_general = precios.drop(columns=['color']) #para esta tabla el color no hace falta. Drop.\n",
    "precios_general = precios_general.groupby('producto').apply(lambda x: x.loc[x.precio.idxmax()])\n",
    "#Agrupo por producto, buscando el precio mas alto por articulo\n",
    "precios_general.drop(columns=['producto'],inplace=True) #reacomodo la tabla\n",
    "precios_general = precios_general.reset_index() #reacomodo la tabla\n",
    "precios_general = precios_general[(precios_general['fecha'] > '2022-08-01')] #filtro por fecha "
   ]
  },
  {
   "cell_type": "code",
   "execution_count": null,
   "id": "578a28d6",
   "metadata": {},
   "outputs": [],
   "source": [
    "precios_jeans = precios.groupby(['producto','color']).apply(lambda x: x.loc[x.precio.idxmax()]) \n",
    "#Agrupo por producto y color, buscando el precio mas alto por articulo\n",
    "precios_jeans = precios_jeans.drop(columns=['producto','color']) #reacomodo tabla\n",
    "precios_jeans = precios_jeans.reset_index() #reacomodo la tabla\n",
    "precios_jeans = precios_jeans[(precios_jeans['fecha'] > '2022-01-01')] #filtro por fecha "
   ]
  },
  {
   "cell_type": "code",
   "execution_count": null,
   "id": "34a07d68",
   "metadata": {},
   "outputs": [],
   "source": [
    "%store precios_general \n",
    "%store precios_jeans"
   ]
  },
  {
   "cell_type": "code",
   "execution_count": null,
   "id": "74abe718",
   "metadata": {},
   "outputs": [],
   "source": [
    "precios"
   ]
  },
  {
   "cell_type": "code",
   "execution_count": null,
   "id": "413e32fe",
   "metadata": {},
   "outputs": [],
   "source": []
  }
 ],
 "metadata": {
  "kernelspec": {
   "display_name": "Python 3 (ipykernel)",
   "language": "python",
   "name": "python3"
  },
  "language_info": {
   "codemirror_mode": {
    "name": "ipython",
    "version": 3
   },
   "file_extension": ".py",
   "mimetype": "text/x-python",
   "name": "python",
   "nbconvert_exporter": "python",
   "pygments_lexer": "ipython3",
   "version": "3.11.0"
  }
 },
 "nbformat": 4,
 "nbformat_minor": 5
}
